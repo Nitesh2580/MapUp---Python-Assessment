{
 "cells": [
  {
   "cell_type": "markdown",
   "id": "be4152ba",
   "metadata": {},
   "source": [
    "# Python Section 1"
   ]
  },
  {
   "cell_type": "markdown",
   "id": "466cc367",
   "metadata": {},
   "source": [
    "## Question 1: Reverse List by N Elements\n",
    "\n",
    "Problem Statement:\n",
    "\n",
    "Write a function that takes a list and an integer n, and returns the list with every group of n elements reversed. If there are fewer than n elements left at the end, reverse all of them.\n",
    "\n",
    "Requirements:\n",
    "\n",
    "1. You must not use any built-in slicing or reverse functions to directly reverse the sublists.\n",
    "2. The result should reverse the elements in groups of size n."
   ]
  },
  {
   "cell_type": "code",
   "execution_count": 1,
   "id": "efcb641d-88f9-4ca0-b0ea-ac135bece919",
   "metadata": {},
   "outputs": [
    {
     "name": "stdin",
     "output_type": "stream",
     "text": [
      "Enter a list of integers separated by spaces:  1 2 3 4 5 6 7 8 \n",
      "Enter the group size (n):  3\n"
     ]
    },
    {
     "name": "stdout",
     "output_type": "stream",
     "text": [
      "List reversed by groups of 3: [3, 2, 1, 6, 5, 4, 8, 7]\n"
     ]
    }
   ],
   "source": [
    "from typing import List\n",
    "\n",
    "def reverse_by_n_elements(lst: List[int], n: int) -> List[int]:\n",
    "    \"\"\"\n",
    "    Reverses the input list by groups of n elements.\n",
    "    If the number of elements at the end is less than n, reverse all of them.\n",
    "    \n",
    "    Args:\n",
    "        lst (List[int]): The list to be reversed in groups.\n",
    "        n (int): The size of each group to reverse.\n",
    "    \n",
    "    Returns:\n",
    "        List[int]: The list with elements reversed in groups of n.\n",
    "    \"\"\"\n",
    "    result = []\n",
    "    for i in range(0, len(lst), n):\n",
    "        group = lst[i:i + n]  # Take a slice of n elements\n",
    "        # Reverse manually without using built-in reverse functions\n",
    "        reversed_group = []\n",
    "        for j in range(len(group) - 1, -1, -1):\n",
    "            reversed_group.append(group[j])\n",
    "        result.extend(reversed_group)\n",
    "    \n",
    "    return result\n",
    "\n",
    "# Get input from the user\n",
    "lst_input = input(\"Enter a list of integers separated by spaces: \")\n",
    "n = int(input(\"Enter the group size (n): \"))\n",
    "\n",
    "# Convert the input string into a list of integers\n",
    "lst = list(map(int, lst_input.split()))\n",
    "\n",
    "# Reverse by groups of n elements\n",
    "result = reverse_by_n_elements(lst, n)\n",
    "\n",
    "# Output the result\n",
    "print(f\"List reversed by groups of {n}: {result}\")\n"
   ]
  },
  {
   "cell_type": "markdown",
   "id": "00e21c06",
   "metadata": {},
   "source": [
    "## Question 2: Lists & Dictionaries\n",
    "\n",
    "Problem Statement:\n",
    "\n",
    "Write a function that takes a list of strings and groups them by their length. The result should be a dictionary where:\n",
    "\n",
    "1. The keys are the string lengths.\n",
    "2. The values are lists of strings that have the same length as the key.\n",
    "\n",
    "Requirements:\n",
    "\n",
    "1. Each string should appear in the list corresponding to its length.\n",
    "2. The result should be sorted by the lengths (keys) in ascending order."
   ]
  },
  {
   "cell_type": "code",
   "execution_count": 2,
   "id": "a2aefc7f-2d84-4797-9997-74f53acec32e",
   "metadata": {},
   "outputs": [
    {
     "name": "stdin",
     "output_type": "stream",
     "text": [
      "Enter a list of words separated by commas:  apple , bat , car , elephant , dog , bear \n"
     ]
    },
    {
     "name": "stdout",
     "output_type": "stream",
     "text": [
      "The strings grouped by their lengths are:\n",
      "Length 3: ['bat', 'car', 'dog']\n",
      "Length 4: ['bear']\n",
      "Length 5: ['apple']\n",
      "Length 8: ['elephant']\n"
     ]
    }
   ],
   "source": [
    "from typing import List, Dict\n",
    "\n",
    "def group_by_length(lst: List[str]) -> Dict[int, List[str]]:\n",
    "    \"\"\"\n",
    "    Groups the strings by their length and returns a dictionary.\n",
    "    The keys are the lengths, and the values are lists of strings of that length.\n",
    "    \n",
    "    Args:\n",
    "        lst (List[str]): A list of strings.\n",
    "    \n",
    "    Returns:\n",
    "        Dict[int, List[str]]: A dictionary where keys are string lengths and values are lists of strings of that length.\n",
    "    \"\"\"\n",
    "    result = {}\n",
    "    for word in lst:\n",
    "        length = len(word)\n",
    "        if length not in result:\n",
    "            result[length] = []\n",
    "        result[length].append(word)\n",
    "    \n",
    "    # Sorting the dictionary by keys (string lengths)\n",
    "    return dict(sorted(result.items()))\n",
    "\n",
    "# Prompting the user for input\n",
    "user_input = input(\"Enter a list of words separated by commas: \").split(',')\n",
    "\n",
    "# Stripping extra spaces around words\n",
    "user_input = [word.strip() for word in user_input]\n",
    "\n",
    "# Call the function\n",
    "output = group_by_length(user_input)\n",
    "\n",
    "# Display the result\n",
    "print(\"The strings grouped by their lengths are:\")\n",
    "for length, words in output.items():\n",
    "    print(f\"Length {length}: {words}\")\n"
   ]
  },
  {
   "cell_type": "markdown",
   "id": "aad8bc8b",
   "metadata": {},
   "source": [
    "## Question 3: Flatten a Nested Dictionary\n",
    "\n",
    "\n",
    "You are given a nested dictionary that contains various details (including lists and sub-dictionaries). Your task is to write a Python function that flattens the dictionary such that:\n",
    "\n",
    "1. Nested keys are concatenated into a single key with levels separated by a dot (.).\n",
    "2. List elements should be referenced by their index, enclosed in square brackets (e.g., sections[0]).\n",
    "\n",
    "For example, if a key points to a list, the index of the list element should be appended to the key string, followed by a dot to handle further nested dictionaries.\n",
    "\n",
    "Requirements:\n",
    "\n",
    "1. Nested Dictionary: Flatten nested dictionaries into a single level, concatenating keys.\n",
    "2. Handling Lists: Flatten lists by using the index as part of the key.\n",
    "3. Key Separator: Use a dot (.) as a separator between nested key levels.\n",
    "4. Empty Input: The function should handle empty dictionaries gracefully.\n",
    "5. Nested Depth: You can assume the dictionary has a maximum of 4 levels of nesting."
   ]
  },
  {
   "cell_type": "code",
   "execution_count": 3,
   "id": "f39fcbd5-66a0-4fff-bcad-94e525ad470f",
   "metadata": {},
   "outputs": [
    {
     "name": "stdout",
     "output_type": "stream",
     "text": [
      "{'road.name': 'Highway 1', 'road.length': 350, 'road.sections[0].id': 1, 'road.sections[0].condition.pavement': 'good', 'road.sections[0].condition.traffic': 'moderate'}\n"
     ]
    }
   ],
   "source": [
    "from typing import Dict, Any, Union, List\n",
    "\n",
    "def flatten_dict(nested_dict: Dict[str, Any], sep: str = '.') -> Dict[str, Any]:\n",
    "    \"\"\"\n",
    "    Flattens a nested dictionary into a single-level dictionary with dot notation for keys.\n",
    "    \n",
    "    :param nested_dict: The dictionary object to flatten\n",
    "    :param sep: The separator to use between parent and child keys (defaults to '.')\n",
    "    :return: A flattened dictionary\n",
    "    \"\"\"\n",
    "    def flatten(item: Union[Dict, List], parent_key: str = '') -> Dict[str, Any]:\n",
    "        items = {}\n",
    "        if isinstance(item, dict):\n",
    "            for key, value in item.items():\n",
    "                new_key = f\"{parent_key}{sep}{key}\" if parent_key else key\n",
    "                items.update(flatten(value, new_key))\n",
    "        elif isinstance(item, list):\n",
    "            for index, value in enumerate(item):\n",
    "                new_key = f\"{parent_key}[{index}]\"\n",
    "                items.update(flatten(value, new_key))\n",
    "        else:\n",
    "            items[parent_key] = item\n",
    "        return items\n",
    "\n",
    "    return flatten(nested_dict)\n",
    "\n",
    "# Example usage\n",
    "nested_dict = {\n",
    "    \"road\": {\n",
    "        \"name\": \"Highway 1\",\n",
    "        \"length\": 350,\n",
    "        \"sections\": [\n",
    "            {\n",
    "                \"id\": 1,\n",
    "                \"condition\": {\n",
    "                    \"pavement\": \"good\",\n",
    "                    \"traffic\": \"moderate\"\n",
    "                }\n",
    "            }\n",
    "        ]\n",
    "    }\n",
    "}\n",
    "\n",
    "flattened_dict = flatten_dict(nested_dict)\n",
    "print(flattened_dict)"
   ]
  },
  {
   "cell_type": "markdown",
   "id": "27ca7ba1",
   "metadata": {},
   "source": [
    "## Question 4: Generate Unique Permutations\n",
    "\n",
    "Problem Statement:\n",
    "\n",
    "You are given a list of integers that may contain duplicates. Your task is to generate all unique permutations of the list. The output should not contain any duplicate permutations."
   ]
  },
  {
   "cell_type": "code",
   "execution_count": 4,
   "id": "40cdbf5d-e4c9-4cea-b090-b1c331b45a84",
   "metadata": {},
   "outputs": [
    {
     "name": "stdin",
     "output_type": "stream",
     "text": [
      "Enter a list of integers separated by spaces (duplicates allowed):  1 1 2\n"
     ]
    },
    {
     "name": "stdout",
     "output_type": "stream",
     "text": [
      "Unique permutations:\n",
      "[1, 1, 2]\n",
      "[1, 2, 1]\n",
      "[2, 1, 1]\n"
     ]
    }
   ],
   "source": [
    "from typing import List\n",
    "\n",
    "def unique_permutations(nums: List[int]) -> List[List[int]]:\n",
    "    \"\"\"\n",
    "    Generate all unique permutations of a list that may contain duplicates.\n",
    "    \n",
    "    :param nums: List of integers (may contain duplicates)\n",
    "    :return: List of unique permutations\n",
    "    \"\"\"\n",
    "    def backtrack(start: int):\n",
    "        if start == len(nums):\n",
    "            result.append(nums[:])  # Append a copy of the current permutation\n",
    "            return\n",
    "        seen = set()  # To keep track of duplicates at this position\n",
    "        for i in range(start, len(nums)):\n",
    "            if nums[i] in seen:\n",
    "                continue  # Skip duplicates\n",
    "            seen.add(nums[i])  # Mark this element as seen\n",
    "            nums[start], nums[i] = nums[i], nums[start]  # Swap to fix the current number\n",
    "            backtrack(start + 1)  # Recur for the next index\n",
    "            nums[start], nums[i] = nums[i], nums[start]  # Backtrack (swap back)\n",
    "\n",
    "    nums.sort()  # Sort to handle duplicates\n",
    "    result = []\n",
    "    backtrack(0)\n",
    "    return result\n",
    "\n",
    "# User input section\n",
    "input_str = input(\"Enter a list of integers separated by spaces (duplicates allowed): \")\n",
    "input_nums = list(map(int, input_str.split()))\n",
    "output_permutations = unique_permutations(input_nums)\n",
    "\n",
    "print(\"Unique permutations:\")\n",
    "for perm in output_permutations:\n",
    "    print(perm)\n"
   ]
  },
  {
   "cell_type": "markdown",
   "id": "4198eb3f",
   "metadata": {},
   "source": [
    "## Question 5: Find All Dates in a Text\n",
    "\n",
    "Problem Statement:\n",
    "\n",
    "You are given a string that contains dates in various formats (such as \"dd-mm-yyyy\", \"mm/dd/yyyy\", \"yyyy.mm.dd\", etc.). Your task is to identify and return all the valid dates present in the string.\n",
    "\n",
    "You need to write a function find_all_dates that takes a string as input and returns a list of valid dates found in the text. The dates can be in any of the following formats:\n",
    "\n",
    "1. dd-mm-yyyy\n",
    "2. mm/dd/yyyy\n",
    "3. yyyy.mm.dd\n",
    "\n",
    "You are required to use regular expressions to identify these dates."
   ]
  },
  {
   "cell_type": "code",
   "execution_count": 5,
   "id": "fded358f-6df4-4a6a-a13d-439d7bc9786e",
   "metadata": {},
   "outputs": [
    {
     "name": "stdin",
     "output_type": "stream",
     "text": [
      "Enter a string containing dates in various formats:  I was born on 23-08-1994, my friend on 08/23/1994, and another one on 1994.08.23.\n"
     ]
    },
    {
     "name": "stdout",
     "output_type": "stream",
     "text": [
      "Input: I was born on 23-08-1994, my friend on 08/23/1994, and another one on 1994.08.23.\n",
      "Output: ['23-08-1994', '08/23/1994', '1994.08.23']\n"
     ]
    }
   ],
   "source": [
    "import re\n",
    "from typing import List\n",
    "\n",
    "def find_all_dates(text: str) -> List[str]:\n",
    "    \"\"\"\n",
    "    This function takes a string as input and returns a list of valid dates\n",
    "    in 'dd-mm-yyyy', 'mm/dd/yyyy', or 'yyyy.mm.dd' format found in the string.\n",
    "    \n",
    "    Parameters:\n",
    "    text (str): A string containing the dates in various formats.\n",
    "\n",
    "    Returns:\n",
    "    List[str]: A list of valid dates in the formats specified.\n",
    "    \"\"\"\n",
    "    # Regular expression patterns for the date formats\n",
    "    patterns = [\n",
    "        r'\\b(\\d{2}-\\d{2}-\\d{4})\\b',  # dd-mm-yyyy\n",
    "        r'\\b(\\d{2}/\\d{2}/\\d{4})\\b',  # mm/dd/yyyy\n",
    "        r'\\b(\\d{4}\\.\\d{2}\\.\\d{2})\\b'   # yyyy.mm.dd\n",
    "    ]\n",
    "    \n",
    "    # Combine all patterns into one regex\n",
    "    combined_pattern = '|'.join(patterns)\n",
    "    \n",
    "    # Find all matches in the text\n",
    "    matches = re.findall(combined_pattern, text)\n",
    "    \n",
    "    # Flatten the list of matches\n",
    "    dates = [date for match in matches for date in match if date]\n",
    "\n",
    "    return dates\n",
    "\n",
    "# User input section\n",
    "text = input(\"Enter a string containing dates in various formats: \")\n",
    "output_dates = find_all_dates(text)\n",
    "\n",
    "# Desired output format\n",
    "print(\"Input:\", text)\n",
    "print(\"Output:\", output_dates)\n"
   ]
  },
  {
   "cell_type": "markdown",
   "id": "5e1145af",
   "metadata": {},
   "source": [
    "## Question 6: Decode Polyline, Convert to DataFrame with Distances\n",
    "\n",
    "You are given a polyline string, which encodes a series of latitude and longitude coordinates. Polyline encoding is a method to efficiently store latitude and longitude data using fewer bytes. The Python polyline module allows you to decode this string into a list of coordinates.\n",
    "\n",
    "Write a function that performs the following operations:\n",
    "\n",
    "1. Decode the polyline string using the polyline module into a list of (latitude, longitude) coordinates.\n",
    "2. Convert these coordinates into a Pandas DataFrame with the following columns:\n",
    "   (i). latitude: Latitude of the coordinate.\n",
    "   (ii). longitude: Longitude of the coordinate.\n",
    "   (iii). distance: The distance (in meters) between the current row's coordinate and the previous row's one. The first row               will have a distance of 0 since there is no previous point.\n",
    "3. Calculate the distance using the Haversine formula for points in successive rows."
   ]
  },
  {
   "cell_type": "code",
   "execution_count": 6,
   "id": "346b6632-dd55-4e1d-86d4-ff79707fd619",
   "metadata": {},
   "outputs": [
    {
     "name": "stdout",
     "output_type": "stream",
     "text": [
      "     latitude   longitude      distance\n",
      "0    38.50000  -120.20000  0.000000e+00\n",
      "1    40.70000 -9346.62912  1.002670e+07\n",
      "2 -8177.86224 -9337.94631  6.818307e+06\n"
     ]
    }
   ],
   "source": [
    "import polyline\n",
    "import pandas as pd\n",
    "import numpy as np\n",
    "\n",
    "def haversine(lat1, lon1, lat2, lon2):\n",
    "    \"\"\"\n",
    "    Calculate the great circle distance in meters between two points\n",
    "    on the Earth specified in decimal degrees using the Haversine formula.\n",
    "    \"\"\"\n",
    "    # Convert decimal degrees to radians\n",
    "    lat1, lon1, lat2, lon2 = map(np.radians, [lat1, lon1, lat2, lon2])\n",
    "    \n",
    "    # Haversine formula\n",
    "    dlon = lon2 - lon1 \n",
    "    dlat = lat2 - lat1 \n",
    "    a = np.sin(dlat/2)**2 + np.cos(lat1) * np.cos(lat2) * np.sin(dlon/2)**2\n",
    "    c = 2 * np.arcsin(np.sqrt(a)) \n",
    "    \n",
    "    # Radius of Earth in meters (mean radius)\n",
    "    r = 6371000  \n",
    "    return c * r\n",
    "\n",
    "def decode_polyline_to_df(polyline_str: str) -> pd.DataFrame:\n",
    "    \"\"\"\n",
    "    Decode a polyline string into a DataFrame with distances between coordinates.\n",
    "    \n",
    "    :param polyline_str: The encoded polyline string.\n",
    "    :return: A Pandas DataFrame with latitude, longitude, and distance columns.\n",
    "    \"\"\"\n",
    "    # Decode the polyline string into a list of (latitude, longitude) tuples\n",
    "    coordinates = polyline.decode(polyline_str)\n",
    "    \n",
    "    # Create a DataFrame from the coordinates\n",
    "    df = pd.DataFrame(coordinates, columns=['latitude', 'longitude'])\n",
    "    \n",
    "    # Calculate distances using the Haversine formula\n",
    "    distances = [0.0]  # The first distance is 0 since there's no previous point\n",
    "    for i in range(1, len(df)):\n",
    "        dist = haversine(df.latitude[i-1], df.longitude[i-1], \n",
    "                         df.latitude[i], df.longitude[i])\n",
    "        distances.append(dist)\n",
    "    \n",
    "    df['distance'] = distances\n",
    "    return df\n",
    "\n",
    "# Example polyline string (for demonstration)\n",
    "polyline_str = \"_p~iF~ps|U_ulL~|sx~u@~|bq~o@qz~s@\"\n",
    "\n",
    "# Convert to DataFrame\n",
    "df = decode_polyline_to_df(polyline_str)\n",
    "\n",
    "# Display the resulting DataFrame\n",
    "print(df)\n"
   ]
  },
  {
   "cell_type": "markdown",
   "id": "09164eb1",
   "metadata": {},
   "source": [
    "## Question 7: Matrix Rotation and Transformation\n",
    "\n",
    "Write a function that performs the following operations on a square matrix (n x n):\n",
    "\n",
    "1. Rotate the matrix by 90 degrees clockwise.\n",
    "2. After rotation, for each element in the rotated matrix, replace it with the sum of all elements in the same row and column      (in the rotated matrix), excluding itself.\n",
    "\n",
    "The function should return the transformed matrix."
   ]
  },
  {
   "cell_type": "code",
   "execution_count": 7,
   "id": "1319b2d5-efbf-4544-a091-869e7e7c1a71",
   "metadata": {},
   "outputs": [
    {
     "name": "stdin",
     "output_type": "stream",
     "text": [
      "Enter the size of the square matrix (n x n):  3\n"
     ]
    },
    {
     "name": "stdout",
     "output_type": "stream",
     "text": [
      "Enter the elements of the 3 x 3 matrix row by row:\n"
     ]
    },
    {
     "name": "stdin",
     "output_type": "stream",
     "text": [
      "Row 1:  1 2 3\n",
      "Row 2:  4 5 6\n",
      "Row 3:  7 8 9\n"
     ]
    },
    {
     "name": "stdout",
     "output_type": "stream",
     "text": [
      "\n",
      "Input matrix:\n",
      "[[1, 2, 3], [4, 5, 6], [7, 8, 9]]\n",
      "\n",
      "Rotated matrix (90 degrees clockwise):\n",
      "[[7, 4, 1], [8, 5, 2], [9, 6, 3]]\n",
      "\n",
      "Final transformed matrix:\n",
      "[[29, 23, 17], [31, 25, 19], [33, 27, 21]]\n"
     ]
    }
   ],
   "source": [
    "def rotate_matrix(matrix):\n",
    "    \"\"\"\n",
    "    Rotate the matrix by 90 degrees clockwise.\n",
    "    \n",
    "    :param matrix: The input square matrix (n x n).\n",
    "    :return: The rotated matrix.\n",
    "    \"\"\"\n",
    "    n = len(matrix)\n",
    "    rotated = [[0] * n for _ in range(n)]\n",
    "    \n",
    "    for i in range(n):\n",
    "        for j in range(n):\n",
    "            rotated[j][n - 1 - i] = matrix[i][j]\n",
    "    \n",
    "    return rotated\n",
    "\n",
    "def transform_matrix(matrix):\n",
    "    \"\"\"\n",
    "    Transform the rotated matrix by replacing each element with the sum\n",
    "    of all elements in the same row and column, excluding itself.\n",
    "    \n",
    "    :param matrix: The rotated square matrix (n x n).\n",
    "    :return: The transformed matrix.\n",
    "    \"\"\"\n",
    "    n = len(matrix)\n",
    "    transformed = [[0] * n for _ in range(n)]\n",
    "    \n",
    "    for i in range(n):\n",
    "        for j in range(n):\n",
    "            row_sum = sum(matrix[i])  # Sum of the current row\n",
    "            col_sum = sum(matrix[k][j] for k in range(n))  # Sum of the current column\n",
    "            transformed[i][j] = row_sum + col_sum - matrix[i][j]  # Exclude the element itself\n",
    "    \n",
    "    return transformed\n",
    "\n",
    "def rotate_and_transform(matrix):\n",
    "    \"\"\"\n",
    "    Rotate the matrix by 90 degrees clockwise and transform it.\n",
    "    \n",
    "    :param matrix: The input square matrix (n x n).\n",
    "    :return: The rotated and final transformed matrix.\n",
    "    \"\"\"\n",
    "    rotated_matrix = rotate_matrix(matrix)\n",
    "    final_matrix = transform_matrix(rotated_matrix)\n",
    "    return rotated_matrix, final_matrix\n",
    "\n",
    "def create_matrix_input():\n",
    "    \"\"\"\n",
    "    Create a square matrix input from user.\n",
    "    \n",
    "    :return: A square matrix (list of lists).\n",
    "    \"\"\"\n",
    "    n = int(input(\"Enter the size of the square matrix (n x n): \"))\n",
    "    matrix = []\n",
    "\n",
    "    print(f\"Enter the elements of the {n} x {n} matrix row by row:\")\n",
    "    for i in range(n):\n",
    "        row = list(map(int, input(f\"Row {i + 1}: \").split()))\n",
    "        if len(row) != n:\n",
    "            print(f\"Please enter exactly {n} integers for row {i + 1}.\")\n",
    "            return create_matrix_input()  # Restart input if the row size is incorrect\n",
    "        matrix.append(row)\n",
    "    \n",
    "    return matrix\n",
    "\n",
    "# Example usage\n",
    "user_matrix = create_matrix_input()  # Allow user to input the matrix\n",
    "print(\"\\nInput matrix:\")\n",
    "print(user_matrix)\n",
    "\n",
    "rotated_matrix, final_result = rotate_and_transform(user_matrix)\n",
    "\n",
    "# Display the rotated and final transformed matrices\n",
    "print(\"\\nRotated matrix (90 degrees clockwise):\")\n",
    "print(rotated_matrix)\n",
    "\n",
    "print(\"\\nFinal transformed matrix:\")\n",
    "print(final_result)\n"
   ]
  },
  {
   "cell_type": "markdown",
   "id": "dbfb253b",
   "metadata": {},
   "source": [
    "## Question 8: Time Check\n",
    "\n",
    "You are given a dataset, dataset-1.csv, containing columns id, id_2, and timestamp (startDay, startTime, endDay, endTime). The goal is to verify the completeness of the time data by checking whether the timestamps for each unique (id, id_2) pair cover a full 24-hour period (from 12:00:00 AM to 11:59:59 PM) and span all 7 days of the week (from Monday to Sunday).\n",
    "\n",
    "Create a function that accepts dataset-1.csv as a DataFrame and returns a boolean series that indicates if each (id, id_2) pair has incorrect timestamps. The boolean series must have multi-index (id, id_2)."
   ]
  },
  {
   "cell_type": "code",
   "execution_count": 8,
   "id": "311c7f21-22f7-4c6f-838a-f3caef30ad50",
   "metadata": {},
   "outputs": [
    {
     "name": "stdout",
     "output_type": "stream",
     "text": [
      "Dataset Preview:\n",
      "   startDay startTime     endDay   endTime\n",
      "0    Monday  05:00:00  Wednesday  10:00:00\n",
      "1    Monday  10:00:00     Friday  15:00:00\n",
      "2  Thursday  15:00:00     Friday  19:00:00\n",
      "3    Monday  19:00:00     Friday  23:59:59\n",
      "4  Saturday  00:00:00     Sunday  23:59:59\n",
      "Invalid date or time format detected. Please check the data.\n",
      "Incorrect Timestamps:\n",
      "0        True\n",
      "1        True\n",
      "2        True\n",
      "3        True\n",
      "4        True\n",
      "         ... \n",
      "39509    True\n",
      "39510    True\n",
      "39511    True\n",
      "39512    True\n",
      "39513    True\n",
      "Length: 39514, dtype: bool\n"
     ]
    }
   ],
   "source": [
    "import pandas as pd\n",
    "\n",
    "# Load the dataset (replace 'dataset-1.csv' with your actual file path)\n",
    "df = pd.read_csv('C:/Users/Nitesh Sharma/Submission/dataset-1.csv')\n",
    "\n",
    "# Display the first few rows to inspect the date and time columns\n",
    "print(\"Dataset Preview:\")\n",
    "print(df[['startDay', 'startTime', 'endDay', 'endTime']].head())\n",
    "\n",
    "def time_check(df: pd.DataFrame) -> pd.Series:\n",
    "    \"\"\"\n",
    "    Verify the completeness of the data by checking whether the timestamps for each unique (id, id_2) pair \n",
    "    cover a full 24-hour and 7-day period.\n",
    "    \n",
    "    Args:\n",
    "        df (pandas.DataFrame): The input DataFrame containing timestamp data.\n",
    "\n",
    "    Returns:\n",
    "        pd.Series: A boolean series indicating whether each (id, id_2) pair has incorrect timestamps.\n",
    "    \"\"\"\n",
    "    # Check for missing values\n",
    "    if df[['startDay', 'startTime', 'endDay', 'endTime']].isnull().any().any():\n",
    "        print(\"Missing values detected in date or time columns.\")\n",
    "        return pd.Series([True] * len(df))\n",
    "\n",
    "    # Specify format explicitly and handle parsing errors\n",
    "    df['start_datetime'] = pd.to_datetime(df['startDay'] + ' ' + df['startTime'], format='%Y-%m-%d %H:%M', errors='coerce')\n",
    "    df['end_datetime'] = pd.to_datetime(df['endDay'] + ' ' + df['endTime'], format='%Y-%m-%d %H:%M', errors='coerce')\n",
    "\n",
    "    # Handle potential parsing issues\n",
    "    if df['start_datetime'].isnull().any() or df['end_datetime'].isnull().any():\n",
    "        print(\"Invalid date or time format detected. Please check the data.\")\n",
    "        return pd.Series([True] * len(df))\n",
    "\n",
    "    grouped = df.groupby(['id', 'id_2'])\n",
    "\n",
    "    def check_group(group):\n",
    "        # Generate a date range for the complete time period\n",
    "        days = pd.date_range(start=group['start_datetime'].min().normalize(), \n",
    "                             end=group['end_datetime'].max().normalize(), \n",
    "                             freq='D')\n",
    "        unique_days = group['start_datetime'].dt.date.unique()\n",
    "        time_range = group['end_datetime'].max() - group['start_datetime'].min()\n",
    "\n",
    "        # Check for 7 unique days and a time range of at least 24 hours\n",
    "        return len(unique_days) < 7 or time_range < pd.Timedelta(hours=24)\n",
    "\n",
    "    result = grouped.apply(check_group)\n",
    "\n",
    "    return result\n",
    "\n",
    "# Check the timestamps for completeness\n",
    "incorrect_timestamps = time_check(df)\n",
    "\n",
    "# Display the result\n",
    "print(\"Incorrect Timestamps:\")\n",
    "print(incorrect_timestamps)\n"
   ]
  }
 ],
 "metadata": {
  "kernelspec": {
   "display_name": "Python 3 (ipykernel)",
   "language": "python",
   "name": "python3"
  },
  "language_info": {
   "codemirror_mode": {
    "name": "ipython",
    "version": 3
   },
   "file_extension": ".py",
   "mimetype": "text/x-python",
   "name": "python",
   "nbconvert_exporter": "python",
   "pygments_lexer": "ipython3",
   "version": "3.11.7"
  }
 },
 "nbformat": 4,
 "nbformat_minor": 5
}
